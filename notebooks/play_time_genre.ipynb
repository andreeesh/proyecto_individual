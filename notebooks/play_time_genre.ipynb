{
 "cells": [
  {
   "cell_type": "code",
   "execution_count": null,
   "metadata": {},
   "outputs": [],
   "source": [
    "import pandas as pd\n",
    "import pyarrow as pa\n",
    "import pyarrow.parquet as pq\n",
    "import math\n",
    "\n",
    "# Abre el archivo steam_games.parquet y lo guarda en un dataframe\n",
    "df_steam_games = pd.read_parquet(\n",
    "    \"../data_sources/parquet/steam_games.parquet\", columns=['id', 'genres', 'release_year'])\n",
    "\n",
    "# Abre el archivo users_items.parquet y lo guarda en un dataframe\n",
    "df_users_items = pd.read_parquet(\n",
    "   \t\"../data_sources/parquet/users_items.parquet\", columns=['item_id', 'playtime_forever'])\n",
    "\n",
    "# Convierte los tipos de datos de las columnas\n",
    "df_steam_games['id'] = df_steam_games['id'].astype(int)\n",
    "df_steam_games['genres'] = df_steam_games['genres'].astype(str)\n",
    "df_steam_games['release_year'] = df_steam_games['release_year'].astype(int)\n",
    "df_users_items['item_id'] = df_users_items['item_id'].astype(int)\n",
    "df_users_items['playtime_forever'] = df_users_items['playtime_forever'].astype(int)\n",
    "\n",
    "# Combina ambos dataframes\n",
    "merged_df = df_steam_games.merge(\n",
    "    df_users_items, left_on='id', right_on='item_id', how='inner')\n",
    "\n",
    "# Elimina la columna item_id\n",
    "merged_df.drop(['item_id'], axis=1, inplace=True)\n",
    "\n",
    "# Dividir el DataFrame en bloques de 1000 filas\n",
    "rows_per_file = 10000\n",
    "total_rows = len(merged_df)\n",
    "total_files = math.ceil(total_rows / rows_per_file)\n",
    "\n",
    "# Recorrer y crear archivos Parquet\n",
    "for i in range(total_files):\n",
    "    s = i * rows_per_file\n",
    "    e = min((i + 1) * rows_per_file, total_rows)\n",
    "    block = merged_df.iloc[s:e]\n",
    "\n",
    "    # Crear el nombre del archivo Parquet (puedes modificar el nombre como desees)\n",
    "    file_name = f\"../data_sources/parquet/play_time_genre/dataset_{i + 1}.parquet\"\n",
    "\n",
    "    # Guardar el bloque actual en un archivo Parquet\n",
    "    block.to_parquet(file_name)\n",
    "\n",
    "    print(f\"Archivo {file_name} guardado con éxito. Filas {s + 1} a {e} del DataFrame.\")\n",
    "\n"
   ]
  }
 ],
 "metadata": {
  "kernelspec": {
   "display_name": ".venv",
   "language": "python",
   "name": "python3"
  },
  "language_info": {
   "codemirror_mode": {
    "name": "ipython",
    "version": 3
   },
   "file_extension": ".py",
   "mimetype": "text/x-python",
   "name": "python",
   "nbconvert_exporter": "python",
   "pygments_lexer": "ipython3",
   "version": "3.11.4"
  }
 },
 "nbformat": 4,
 "nbformat_minor": 2
}
