{
 "cells": [
  {
   "cell_type": "code",
   "execution_count": 1,
   "metadata": {},
   "outputs": [],
   "source": [
    "import pandas as pd\n",
    "import pyarrow as pa\n",
    "import pyarrow.parquet as pq\n",
    "\n",
    "df_steam_games = pd.read_parquet(\n",
    "    \"../data_sources/parquet/steam_games.parquet\", columns=['id', 'genres', 'release_year'])\n",
    "\n",
    "df_users_items = pd.read_parquet(\n",
    "   \t\"../data_sources/parquet/users_items.parquet\", columns=['item_id', 'playtime_forever'])\n",
    "\n",
    "df_steam_games['id'] = df_steam_games['id'].astype(int)\n",
    "df_steam_games['genres'] = df_steam_games['genres'].astype(str)\n",
    "df_users_items['item_id'] = df_users_items['item_id'].astype(int)\n",
    "\n",
    "merged_df = df_steam_games.merge(\n",
    "    df_users_items, left_on='id', right_on='item_id', how='inner')\n",
    "\n",
    "table = pa.Table.from_pandas(merged_df)\n",
    "file = '../data_sources/parquet/play_time_genre.parquet'\n",
    "pq.write_table(table, file)"
   ]
  }
 ],
 "metadata": {
  "kernelspec": {
   "display_name": ".venv",
   "language": "python",
   "name": "python3"
  },
  "language_info": {
   "codemirror_mode": {
    "name": "ipython",
    "version": 3
   },
   "file_extension": ".py",
   "mimetype": "text/x-python",
   "name": "python",
   "nbconvert_exporter": "python",
   "pygments_lexer": "ipython3",
   "version": "3.11.4"
  }
 },
 "nbformat": 4,
 "nbformat_minor": 2
}
