{
 "cells": [
  {
   "cell_type": "code",
   "execution_count": 3,
   "metadata": {},
   "outputs": [
    {
     "data": {
      "text/plain": [
       "4173915"
      ]
     },
     "execution_count": 3,
     "metadata": {},
     "output_type": "execute_result"
    }
   ],
   "source": [
    "import pandas as pd\n",
    "import sqlite3\n",
    "\n",
    "# Nombre del archivo de la base de datos\n",
    "db_file = '../data_sources/steam.db'\n",
    "\n",
    "# Nombre de la tabla en la base de datos\n",
    "table_name = 'play_time_genre'\n",
    "\n",
    "# Conexión a la base de datos\n",
    "conn = sqlite3.connect(db_file)\n",
    "\n",
    "# Abre el archivo steam_games.parquet y lo guarda en un dataframe\n",
    "df_steam_games = pd.read_parquet(\n",
    "    \"../data_sources/parquet/steam_games.parquet\", columns=['id', 'genres', 'release_year'])\n",
    "\n",
    "# Abre el archivo users_items.parquet y lo guarda en un dataframe\n",
    "df_users_items = pd.read_parquet(\n",
    "   \t\"../data_sources/parquet/users_items.parquet\", columns=['item_id', 'playtime_forever'])\n",
    "\n",
    "# Convierte los tipos de datos de las columnas\n",
    "df_steam_games['id'] = df_steam_games['id'].astype(int)\n",
    "df_steam_games['genres'] = df_steam_games['genres'].astype(str)\n",
    "df_steam_games['release_year'] = df_steam_games['release_year'].astype(int)\n",
    "df_users_items['item_id'] = df_users_items['item_id'].astype(int)\n",
    "df_users_items['playtime_forever'] = df_users_items['playtime_forever'].astype(int)\n",
    "\n",
    "# Combina ambos dataframes\n",
    "merged_df = df_steam_games.merge(\n",
    "    df_users_items, left_on='id', right_on='item_id', how='inner')\n",
    "\n",
    "# Elimina la columna item_id\n",
    "merged_df.drop(['item_id'], axis=1, inplace=True)\n",
    "\n",
    "# Guardar el DataFrame en la base de datos SQLite\n",
    "merged_df.to_sql(table_name, conn, index=False, if_exists='replace')\n",
    "\n"
   ]
  }
 ],
 "metadata": {
  "kernelspec": {
   "display_name": ".venv",
   "language": "python",
   "name": "python3"
  },
  "language_info": {
   "codemirror_mode": {
    "name": "ipython",
    "version": 3
   },
   "file_extension": ".py",
   "mimetype": "text/x-python",
   "name": "python",
   "nbconvert_exporter": "python",
   "pygments_lexer": "ipython3",
   "version": "3.11.4"
  }
 },
 "nbformat": 4,
 "nbformat_minor": 2
}
