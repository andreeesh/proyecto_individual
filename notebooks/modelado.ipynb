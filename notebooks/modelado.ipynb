{
 "cells": [
  {
   "cell_type": "code",
   "execution_count": 1,
   "metadata": {},
   "outputs": [],
   "source": [
    "import pandas as pd\n",
    "\n",
    "# Generar el DataFrame para el registro\n",
    "df = pd.read_parquet('../data_sources/parquet/steam_games.parquet')\n",
    "\n",
    "# Expandir la columna \"genres\" para cada valor en una fila separada\n",
    "df_expanded = df.explode('genres')\n",
    "\n",
    "# Renombrar columnas para que coincidan con el formato final deseado\n",
    "df_expanded = df_expanded.rename(columns={'title': 'app_name', 'genres': 'genres'})\n",
    "\n",
    "# Seleccionar las columnas deseadas y reorganizar el orden\n",
    "df_final = df_expanded[['id', 'app_name', 'genres']]\n",
    "\n",
    "# Exportar el DataFrame a un archivo Parquet\n",
    "df_final.to_parquet('../data_sources/parquet/games_model.parquet', index=False)\n",
    "\n",
    "games_model= pd.read_parquet('../data_sources/parquet/games_model.parquet')\n",
    "\n",
    "# Creacíon de dummies\n",
    "item_model = pd.get_dummies(games_model, columns=[\"genres\"], prefix=\"\")\n",
    "item_model = item_model.groupby([\"id\",\"app_name\"]).sum().reset_index()\n",
    "item_model.to_parquet('../data_sources/parquet/item_model.parquet', index=False)\n"
   ]
  }
 ],
 "metadata": {
  "kernelspec": {
   "display_name": "Python 3",
   "language": "python",
   "name": "python3"
  },
  "language_info": {
   "codemirror_mode": {
    "name": "ipython",
    "version": 3
   },
   "file_extension": ".py",
   "mimetype": "text/x-python",
   "name": "python",
   "nbconvert_exporter": "python",
   "pygments_lexer": "ipython3",
   "version": "3.11.4"
  }
 },
 "nbformat": 4,
 "nbformat_minor": 2
}
