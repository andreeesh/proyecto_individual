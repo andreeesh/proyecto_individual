{
 "cells": [
  {
   "cell_type": "code",
   "execution_count": 1,
   "metadata": {},
   "outputs": [
    {
     "name": "stderr",
     "output_type": "stream",
     "text": [
      "[nltk_data] Downloading package vader_lexicon to\n",
      "[nltk_data]     /home/andreeesh/nltk_data...\n",
      "[nltk_data]   Package vader_lexicon is already up-to-date!\n",
      "/tmp/ipykernel_193049/1712253432.py:43: SettingWithCopyWarning: \n",
      "A value is trying to be set on a copy of a slice from a DataFrame.\n",
      "Try using .loc[row_indexer,col_indexer] = value instead\n",
      "\n",
      "See the caveats in the documentation: https://pandas.pydata.org/pandas-docs/stable/user_guide/indexing.html#returning-a-view-versus-a-copy\n",
      "  clean_items['review'] = clean_items['review'].apply(analyze_sentiment)\n",
      "/tmp/ipykernel_193049/1712253432.py:44: SettingWithCopyWarning: \n",
      "A value is trying to be set on a copy of a slice from a DataFrame\n",
      "\n",
      "See the caveats in the documentation: https://pandas.pydata.org/pandas-docs/stable/user_guide/indexing.html#returning-a-view-versus-a-copy\n",
      "  clean_items['review'].fillna(1, inplace=True)\n"
     ]
    }
   ],
   "source": [
    "# ETL australian_user_reviews.csv\n",
    "import json\n",
    "import ast\n",
    "import pandas as pd\n",
    "from nltk.sentiment.vader import SentimentIntensityAnalyzer\n",
    "import nltk\n",
    "import pyarrow as pa\n",
    "import pyarrow.parquet as pq\n",
    "\n",
    "nltk.download('vader_lexicon')\n",
    "\n",
    "# Define la función para realizar el análisis de sentimiento\n",
    "def analyze_sentiment(text):\n",
    "\tanalyzer = SentimentIntensityAnalyzer()\n",
    "\tsentiment = analyzer.polarity_scores(text)\n",
    "\tif sentiment['compound'] >= 0.05:\n",
    "\t\treturn 2\n",
    "\telif sentiment['compound'] <= -0.05:\n",
    "\t\treturn 0\n",
    "\telse:\n",
    "\t\treturn 1\n",
    "\n",
    "user_reviews = []\n",
    "\n",
    "# Abre el archivo y recorrerlo para agregar las reseñas a la lista\n",
    "with open('../data_sources/json/australian_user_reviews.json', encoding='utf-8') as f:\n",
    "\tfor line in f:\n",
    "\t\tobject = json.loads(json.dumps(ast.literal_eval(line)))\n",
    "\t\tuser_reviews.append(object)\n",
    "\n",
    "# Crea el dataframe a partir de la lista\n",
    "df_user_reviews = pd.DataFrame(user_reviews)\n",
    "\n",
    "# Normaliza la columna reviews\n",
    "normalized = pd.json_normalize(user_reviews, record_path=['reviews'], meta=['user_id'] )\n",
    "\n",
    "# Elimina las filas vacias\n",
    "normalized = normalized.dropna()\n",
    "\n",
    "# Eliminar duplicados\n",
    "clean_items = normalized.drop_duplicates(keep='first')\n",
    "\n",
    "clean_items['review'] = clean_items['review'].apply(analyze_sentiment)\n",
    "clean_items['review'].fillna(1, inplace=True)\n",
    "\n",
    "# Convierte el DataFrame de Pandas a una tabla Arrow\n",
    "table = pa.Table.from_pandas(clean_items)\n",
    "\n",
    "# Especifica la ruta del archivo Parquet\n",
    "file = '../data_sources/parquet/users_reviews.parquet'\n",
    "\n",
    "# Escribe la tabla Arrow en un archivo Parquet\n",
    "pq.write_table(table, file, compression='gzip')"
   ]
  }
 ],
 "metadata": {
  "kernelspec": {
   "display_name": "Python 3",
   "language": "python",
   "name": "python3"
  },
  "language_info": {
   "codemirror_mode": {
    "name": "ipython",
    "version": 3
   },
   "file_extension": ".py",
   "mimetype": "text/x-python",
   "name": "python",
   "nbconvert_exporter": "python",
   "pygments_lexer": "ipython3",
   "version": "3.11.4"
  }
 },
 "nbformat": 4,
 "nbformat_minor": 2
}
