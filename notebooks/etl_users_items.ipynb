{
 "cells": [
  {
   "cell_type": "code",
   "execution_count": 3,
   "metadata": {},
   "outputs": [],
   "source": [
    "# ETL australian_users_items.json\n",
    "\n",
    "import json\n",
    "import ast\n",
    "import pandas as pd\n",
    "import pyarrow as pa\n",
    "import pyarrow.parquet as pq\n",
    "\n",
    "user_items = []\n",
    "\n",
    "# Abre el archivo y recorrerlo para agregar los items a la lista\n",
    "with open('../data_sources/json/australian_users_items.json', encoding='utf-8') as f:\n",
    "\tfor line in f:\n",
    "\t\tobject = json.loads(json.dumps(ast.literal_eval(line)))\n",
    "\t\tuser_items.append(object)\n",
    "\n",
    "df_user_items = pd.DataFrame(user_items)\n",
    "\n",
    "# Normalizar el campo items\n",
    "normalized = pd.json_normalize(user_items, record_path=['items'], meta=['user_id'] )\n",
    "\n",
    "# Eliminar duplicados\n",
    "clean_items = normalized.drop_duplicates(keep='first')\n",
    "clean_items = clean_items.drop(columns=['playtime_2weeks'])\n",
    "\n",
    "# Convierte el DataFrame de Pandas a una tabla Arrow\n",
    "table = pa.Table.from_pandas(clean_items)\n",
    "\n",
    "# Especifica la ruta del archivo Parquet\n",
    "file = '../data_sources/parquet/users_items.parquet'\n",
    "\n",
    "# Escribe la tabla Arrow en un archivo Parquet\n",
    "pq.write_table(table, file, compression='gzip')"
   ]
  }
 ],
 "metadata": {
  "kernelspec": {
   "display_name": "Python 3",
   "language": "python",
   "name": "python3"
  },
  "language_info": {
   "codemirror_mode": {
    "name": "ipython",
    "version": 3
   },
   "file_extension": ".py",
   "mimetype": "text/x-python",
   "name": "python",
   "nbconvert_exporter": "python",
   "pygments_lexer": "ipython3",
   "version": "3.11.4"
  }
 },
 "nbformat": 4,
 "nbformat_minor": 2
}
