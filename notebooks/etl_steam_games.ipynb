{
 "cells": [
  {
   "cell_type": "code",
   "execution_count": 2,
   "metadata": {},
   "outputs": [
    {
     "name": "stdout",
     "output_type": "stream",
     "text": [
      "Archivo ../data_sources/parquet/steam_games/dataset_1.parquet guardado con éxito. Filas 1 a 10000 del DataFrame.\n",
      "Archivo ../data_sources/parquet/steam_games/dataset_2.parquet guardado con éxito. Filas 10001 a 20000 del DataFrame.\n",
      "Archivo ../data_sources/parquet/steam_games/dataset_3.parquet guardado con éxito. Filas 20001 a 30000 del DataFrame.\n",
      "Archivo ../data_sources/parquet/steam_games/dataset_4.parquet guardado con éxito. Filas 30001 a 30083 del DataFrame.\n"
     ]
    }
   ],
   "source": [
    "# ETL output_steam_games.json\n",
    "\n",
    "# Importación de librerías\n",
    "import pandas as pd\n",
    "import datetime\n",
    "import math\n",
    "\n",
    "# Obtener datos del archivo json\n",
    "games = pd.read_json('../data_sources/json/output_steam_games.json', lines=True)\n",
    "\n",
    "# Eliminar las filas nulas\n",
    "games = games.dropna(how=\"all\").reset_index(drop=True)\n",
    "\n",
    "# Eliminar las columnas innecesarias\n",
    "games = games.drop(columns=['publisher', 'url', 'app_name', 'tags', 'reviews_url', 'specs', 'price', 'early_access', 'developer'])\n",
    "\n",
    "# Buscar y eliminar filas duplicadas\n",
    "games['genres'] = games['genres'].apply(lambda x: tuple(x) if isinstance(x, list) else x)\n",
    "duplicates = games[games.duplicated(keep='first', subset=['id'])]\n",
    "duplicates = duplicates.index.tolist()\n",
    "games = games.drop(duplicates).reset_index(drop=True)\n",
    "\n",
    "# Crear una nueva columna con el año de lanzamiento y eliminar la columna de fecha de lanzamiento\n",
    "games['release_year'] = games['release_date'].str.extract(r'(\\d{4})').fillna(0).astype(int)\n",
    "games = games.drop(columns=['release_date'])\n",
    "\n",
    "# Elimina las filas donde el campo title sea nulo\n",
    "games = games.dropna(subset=['title'])\n",
    "\n",
    "# Valida que el año de lanzamiento no sea mayor al año actual\n",
    "current_year = datetime.datetime.now().year\n",
    "games['release_year'] = games['release_year'].apply(lambda x: x if x <= current_year else 0)\n",
    "\n",
    "# Dividir el DataFrame en bloques de 1000 filas\n",
    "rows_per_file = 10000\n",
    "total_rows = len(games)\n",
    "total_files = math.ceil(total_rows / rows_per_file)\n",
    "\n",
    "# Recorrer y crear archivos Parquet\n",
    "for i in range(total_files):\n",
    "    s = i * rows_per_file\n",
    "    e = min((i + 1) * rows_per_file, total_rows)\n",
    "    block = games.iloc[s:e]\n",
    "\n",
    "    # Crear el nombre del archivo Parquet (puedes modificar el nombre como desees)\n",
    "    file_name = f\"../data_sources/parquet/steam_games/dataset_{i + 1}.parquet\"\n",
    "\n",
    "    # Guardar el bloque actual en un archivo Parquet\n",
    "    block.to_parquet(file_name)\n",
    "\n",
    "    print(f\"Archivo {file_name} guardado con éxito. Filas {s + 1} a {e} del DataFrame.\")"
   ]
  }
 ],
 "metadata": {
  "kernelspec": {
   "display_name": "Python 3",
   "language": "python",
   "name": "python3"
  },
  "language_info": {
   "codemirror_mode": {
    "name": "ipython",
    "version": 3
   },
   "file_extension": ".py",
   "mimetype": "text/x-python",
   "name": "python",
   "nbconvert_exporter": "python",
   "pygments_lexer": "ipython3",
   "version": "3.11.4"
  }
 },
 "nbformat": 4,
 "nbformat_minor": 2
}
